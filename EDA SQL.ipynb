{
 "cells": [
  {
   "cell_type": "code",
   "execution_count": 48,
   "id": "acf2ce45-83d6-4596-a91b-1b06cbd1817d",
   "metadata": {},
   "outputs": [
    {
     "name": "stdout",
     "output_type": "stream",
     "text": [
      "Requirement already satisfied: sqlalchemy in c:\\users\\alan bracamonte\\anaconda3\\lib\\site-packages (2.0.39)\n",
      "Requirement already satisfied: greenlet!=0.4.17 in c:\\users\\alan bracamonte\\anaconda3\\lib\\site-packages (from sqlalchemy) (3.0.1)\n",
      "Requirement already satisfied: typing-extensions>=4.6.0 in c:\\users\\alan bracamonte\\anaconda3\\lib\\site-packages (from sqlalchemy) (4.11.0)\n",
      "Requirement already satisfied: ipython-sql in c:\\users\\alan bracamonte\\anaconda3\\lib\\site-packages (0.5.0)\n",
      "Requirement already satisfied: prettytable in c:\\users\\alan bracamonte\\anaconda3\\lib\\site-packages (from ipython-sql) (3.15.1)\n",
      "Requirement already satisfied: ipython in c:\\users\\alan bracamonte\\anaconda3\\lib\\site-packages (from ipython-sql) (8.27.0)\n",
      "Requirement already satisfied: sqlalchemy>=2.0 in c:\\users\\alan bracamonte\\anaconda3\\lib\\site-packages (from ipython-sql) (2.0.39)\n",
      "Requirement already satisfied: sqlparse in c:\\users\\alan bracamonte\\anaconda3\\lib\\site-packages (from ipython-sql) (0.5.3)\n",
      "Requirement already satisfied: six in c:\\users\\alan bracamonte\\anaconda3\\lib\\site-packages (from ipython-sql) (1.16.0)\n",
      "Requirement already satisfied: ipython-genutils in c:\\users\\alan bracamonte\\anaconda3\\lib\\site-packages (from ipython-sql) (0.2.0)\n",
      "Requirement already satisfied: greenlet!=0.4.17 in c:\\users\\alan bracamonte\\anaconda3\\lib\\site-packages (from sqlalchemy>=2.0->ipython-sql) (3.0.1)\n",
      "Requirement already satisfied: typing-extensions>=4.6.0 in c:\\users\\alan bracamonte\\anaconda3\\lib\\site-packages (from sqlalchemy>=2.0->ipython-sql) (4.11.0)\n",
      "Requirement already satisfied: decorator in c:\\users\\alan bracamonte\\anaconda3\\lib\\site-packages (from ipython->ipython-sql) (5.1.1)\n",
      "Requirement already satisfied: jedi>=0.16 in c:\\users\\alan bracamonte\\anaconda3\\lib\\site-packages (from ipython->ipython-sql) (0.19.1)\n",
      "Requirement already satisfied: matplotlib-inline in c:\\users\\alan bracamonte\\anaconda3\\lib\\site-packages (from ipython->ipython-sql) (0.1.6)\n",
      "Requirement already satisfied: prompt-toolkit<3.1.0,>=3.0.41 in c:\\users\\alan bracamonte\\anaconda3\\lib\\site-packages (from ipython->ipython-sql) (3.0.43)\n",
      "Requirement already satisfied: pygments>=2.4.0 in c:\\users\\alan bracamonte\\anaconda3\\lib\\site-packages (from ipython->ipython-sql) (2.15.1)\n",
      "Requirement already satisfied: stack-data in c:\\users\\alan bracamonte\\anaconda3\\lib\\site-packages (from ipython->ipython-sql) (0.2.0)\n",
      "Requirement already satisfied: traitlets>=5.13.0 in c:\\users\\alan bracamonte\\anaconda3\\lib\\site-packages (from ipython->ipython-sql) (5.14.3)\n",
      "Requirement already satisfied: colorama in c:\\users\\alan bracamonte\\anaconda3\\lib\\site-packages (from ipython->ipython-sql) (0.4.6)\n",
      "Requirement already satisfied: wcwidth in c:\\users\\alan bracamonte\\anaconda3\\lib\\site-packages (from prettytable->ipython-sql) (0.2.5)\n",
      "Requirement already satisfied: parso<0.9.0,>=0.8.3 in c:\\users\\alan bracamonte\\anaconda3\\lib\\site-packages (from jedi>=0.16->ipython->ipython-sql) (0.8.3)\n",
      "Requirement already satisfied: executing in c:\\users\\alan bracamonte\\anaconda3\\lib\\site-packages (from stack-data->ipython->ipython-sql) (0.8.3)\n",
      "Requirement already satisfied: asttokens in c:\\users\\alan bracamonte\\anaconda3\\lib\\site-packages (from stack-data->ipython->ipython-sql) (2.0.5)\n",
      "Requirement already satisfied: pure-eval in c:\\users\\alan bracamonte\\anaconda3\\lib\\site-packages (from stack-data->ipython->ipython-sql) (0.2.2)\n",
      "Requirement already satisfied: ipython-sql in c:\\users\\alan bracamonte\\anaconda3\\lib\\site-packages (0.5.0)\n",
      "Requirement already satisfied: prettytable in c:\\users\\alan bracamonte\\anaconda3\\lib\\site-packages (3.15.1)\n",
      "Requirement already satisfied: ipython in c:\\users\\alan bracamonte\\anaconda3\\lib\\site-packages (from ipython-sql) (8.27.0)\n",
      "Requirement already satisfied: sqlalchemy>=2.0 in c:\\users\\alan bracamonte\\anaconda3\\lib\\site-packages (from ipython-sql) (2.0.39)\n",
      "Requirement already satisfied: sqlparse in c:\\users\\alan bracamonte\\anaconda3\\lib\\site-packages (from ipython-sql) (0.5.3)\n",
      "Requirement already satisfied: six in c:\\users\\alan bracamonte\\anaconda3\\lib\\site-packages (from ipython-sql) (1.16.0)\n",
      "Requirement already satisfied: ipython-genutils in c:\\users\\alan bracamonte\\anaconda3\\lib\\site-packages (from ipython-sql) (0.2.0)\n",
      "Requirement already satisfied: wcwidth in c:\\users\\alan bracamonte\\anaconda3\\lib\\site-packages (from prettytable) (0.2.5)\n",
      "Requirement already satisfied: greenlet!=0.4.17 in c:\\users\\alan bracamonte\\anaconda3\\lib\\site-packages (from sqlalchemy>=2.0->ipython-sql) (3.0.1)\n",
      "Requirement already satisfied: typing-extensions>=4.6.0 in c:\\users\\alan bracamonte\\anaconda3\\lib\\site-packages (from sqlalchemy>=2.0->ipython-sql) (4.11.0)\n",
      "Requirement already satisfied: decorator in c:\\users\\alan bracamonte\\anaconda3\\lib\\site-packages (from ipython->ipython-sql) (5.1.1)\n",
      "Requirement already satisfied: jedi>=0.16 in c:\\users\\alan bracamonte\\anaconda3\\lib\\site-packages (from ipython->ipython-sql) (0.19.1)\n",
      "Requirement already satisfied: matplotlib-inline in c:\\users\\alan bracamonte\\anaconda3\\lib\\site-packages (from ipython->ipython-sql) (0.1.6)\n",
      "Requirement already satisfied: prompt-toolkit<3.1.0,>=3.0.41 in c:\\users\\alan bracamonte\\anaconda3\\lib\\site-packages (from ipython->ipython-sql) (3.0.43)\n",
      "Requirement already satisfied: pygments>=2.4.0 in c:\\users\\alan bracamonte\\anaconda3\\lib\\site-packages (from ipython->ipython-sql) (2.15.1)\n",
      "Requirement already satisfied: stack-data in c:\\users\\alan bracamonte\\anaconda3\\lib\\site-packages (from ipython->ipython-sql) (0.2.0)\n",
      "Requirement already satisfied: traitlets>=5.13.0 in c:\\users\\alan bracamonte\\anaconda3\\lib\\site-packages (from ipython->ipython-sql) (5.14.3)\n",
      "Requirement already satisfied: colorama in c:\\users\\alan bracamonte\\anaconda3\\lib\\site-packages (from ipython->ipython-sql) (0.4.6)\n",
      "Requirement already satisfied: parso<0.9.0,>=0.8.3 in c:\\users\\alan bracamonte\\anaconda3\\lib\\site-packages (from jedi>=0.16->ipython->ipython-sql) (0.8.3)\n",
      "Requirement already satisfied: executing in c:\\users\\alan bracamonte\\anaconda3\\lib\\site-packages (from stack-data->ipython->ipython-sql) (0.8.3)\n",
      "Requirement already satisfied: asttokens in c:\\users\\alan bracamonte\\anaconda3\\lib\\site-packages (from stack-data->ipython->ipython-sql) (2.0.5)\n",
      "Requirement already satisfied: pure-eval in c:\\users\\alan bracamonte\\anaconda3\\lib\\site-packages (from stack-data->ipython->ipython-sql) (0.2.2)\n"
     ]
    }
   ],
   "source": [
    "!pip install --upgrade sqlalchemy\n",
    "!pip install ipython-sql\n",
    "!pip install ipython-sql prettytable"
   ]
  },
  {
   "cell_type": "code",
   "execution_count": 49,
   "id": "7e932379-23eb-40bc-9d58-8dbf8e382dd2",
   "metadata": {},
   "outputs": [
    {
     "name": "stdout",
     "output_type": "stream",
     "text": [
      "The sql extension is already loaded. To reload it, use:\n",
      "  %reload_ext sql\n"
     ]
    }
   ],
   "source": [
    "%load_ext sql"
   ]
  },
  {
   "cell_type": "code",
   "execution_count": 50,
   "id": "03484e48-642d-4609-b300-afa1ec9c89c6",
   "metadata": {},
   "outputs": [],
   "source": [
    "import csv, sqlite3\n",
    "import prettytable\n",
    "prettytable.DEFAULT = 'DEFAULT'\n",
    "\n",
    "con = sqlite3.connect(\"my_data1.db\")\n",
    "cur = con.cursor()"
   ]
  },
  {
   "cell_type": "code",
   "execution_count": 51,
   "id": "8b20a389-494a-4c05-a2a0-15f6f3e5efe6",
   "metadata": {},
   "outputs": [],
   "source": [
    "!pip install -q pandas"
   ]
  },
  {
   "cell_type": "code",
   "execution_count": 52,
   "id": "931768a7-f278-445c-91b0-e96009e851fd",
   "metadata": {},
   "outputs": [],
   "source": [
    "%sql sqlite:///my_data1.db"
   ]
  },
  {
   "cell_type": "code",
   "execution_count": 53,
   "id": "bb59eca3-0dac-4c1f-be50-3d42b2adf9b8",
   "metadata": {},
   "outputs": [
    {
     "data": {
      "text/plain": [
       "101"
      ]
     },
     "execution_count": 53,
     "metadata": {},
     "output_type": "execute_result"
    }
   ],
   "source": [
    "import pandas as pd\n",
    "df = pd.read_csv(\"https://cf-courses-data.s3.us.cloud-object-storage.appdomain.cloud/IBM-DS0321EN-SkillsNetwork/labs/module_2/data/Spacex.csv\")\n",
    "df.to_sql(\"SPACEXTBL\", con, if_exists='replace', index=False,method=\"multi\")"
   ]
  },
  {
   "cell_type": "code",
   "execution_count": 54,
   "id": "34e6d227-2f2d-492d-822a-aac224502d85",
   "metadata": {},
   "outputs": [
    {
     "name": "stdout",
     "output_type": "stream",
     "text": [
      " * sqlite:///my_data1.db\n",
      "Done.\n"
     ]
    },
    {
     "data": {
      "text/plain": [
       "[]"
      ]
     },
     "execution_count": 54,
     "metadata": {},
     "output_type": "execute_result"
    }
   ],
   "source": [
    "#DROP THE TABLE IF EXISTS\n",
    "\n",
    "%sql DROP TABLE IF EXISTS SPACEXTABLE;"
   ]
  },
  {
   "cell_type": "code",
   "execution_count": 55,
   "id": "2e25f575-3a30-4af6-b89b-17c7ff5578f5",
   "metadata": {},
   "outputs": [
    {
     "name": "stdout",
     "output_type": "stream",
     "text": [
      " * sqlite:///my_data1.db\n",
      "Done.\n"
     ]
    },
    {
     "data": {
      "text/plain": [
       "[]"
      ]
     },
     "execution_count": 55,
     "metadata": {},
     "output_type": "execute_result"
    }
   ],
   "source": [
    "%sql create table SPACEXTABLE as select * from SPACEXTBL where Date is not null"
   ]
  },
  {
   "cell_type": "markdown",
   "id": "a4df20a8-e989-499b-b26c-ad7b5d6c5926",
   "metadata": {},
   "source": [
    "Task 1\n",
    "Display the names of the unique launch sites in the space mission"
   ]
  },
  {
   "cell_type": "code",
   "execution_count": 56,
   "id": "08fcba25-7e16-4a55-91b2-b692fd4317d1",
   "metadata": {},
   "outputs": [
    {
     "name": "stdout",
     "output_type": "stream",
     "text": [
      " * sqlite:///my_data1.db\n",
      "Done.\n"
     ]
    },
    {
     "data": {
      "text/html": [
       "<table>\n",
       "    <thead>\n",
       "        <tr>\n",
       "            <th>Launch_Sites</th>\n",
       "        </tr>\n",
       "    </thead>\n",
       "    <tbody>\n",
       "        <tr>\n",
       "            <td>CCAFS LC-40</td>\n",
       "        </tr>\n",
       "        <tr>\n",
       "            <td>VAFB SLC-4E</td>\n",
       "        </tr>\n",
       "        <tr>\n",
       "            <td>KSC LC-39A</td>\n",
       "        </tr>\n",
       "        <tr>\n",
       "            <td>CCAFS SLC-40</td>\n",
       "        </tr>\n",
       "    </tbody>\n",
       "</table>"
      ],
      "text/plain": [
       "[('CCAFS LC-40',), ('VAFB SLC-4E',), ('KSC LC-39A',), ('CCAFS SLC-40',)]"
      ]
     },
     "execution_count": 56,
     "metadata": {},
     "output_type": "execute_result"
    }
   ],
   "source": [
    "%sql SELECT DISTINCT LAUNCH_SITE as \"Launch_Sites\" FROM SPACEXTBL;"
   ]
  },
  {
   "cell_type": "markdown",
   "id": "c0d17455-aa24-47e3-b6f5-31438ea2f6f8",
   "metadata": {},
   "source": [
    "Task 2\n",
    "Display 5 records where launch sites begin with the string 'CCA'"
   ]
  },
  {
   "cell_type": "code",
   "execution_count": 57,
   "id": "49594891-ae9c-4368-b744-59f327d06456",
   "metadata": {},
   "outputs": [
    {
     "name": "stdout",
     "output_type": "stream",
     "text": [
      " * sqlite:///my_data1.db\n",
      "Done.\n"
     ]
    },
    {
     "data": {
      "text/html": [
       "<table>\n",
       "    <thead>\n",
       "        <tr>\n",
       "            <th>Date</th>\n",
       "            <th>Time (UTC)</th>\n",
       "            <th>Booster_Version</th>\n",
       "            <th>Launch_Site</th>\n",
       "            <th>Payload</th>\n",
       "            <th>PAYLOAD_MASS__KG_</th>\n",
       "            <th>Orbit</th>\n",
       "            <th>Customer</th>\n",
       "            <th>Mission_Outcome</th>\n",
       "            <th>Landing_Outcome</th>\n",
       "        </tr>\n",
       "    </thead>\n",
       "    <tbody>\n",
       "        <tr>\n",
       "            <td>2010-06-04</td>\n",
       "            <td>18:45:00</td>\n",
       "            <td>F9 v1.0  B0003</td>\n",
       "            <td>CCAFS LC-40</td>\n",
       "            <td>Dragon Spacecraft Qualification Unit</td>\n",
       "            <td>0</td>\n",
       "            <td>LEO</td>\n",
       "            <td>SpaceX</td>\n",
       "            <td>Success</td>\n",
       "            <td>Failure (parachute)</td>\n",
       "        </tr>\n",
       "        <tr>\n",
       "            <td>2010-12-08</td>\n",
       "            <td>15:43:00</td>\n",
       "            <td>F9 v1.0  B0004</td>\n",
       "            <td>CCAFS LC-40</td>\n",
       "            <td>Dragon demo flight C1, two CubeSats, barrel of Brouere cheese</td>\n",
       "            <td>0</td>\n",
       "            <td>LEO (ISS)</td>\n",
       "            <td>NASA (COTS) NRO</td>\n",
       "            <td>Success</td>\n",
       "            <td>Failure (parachute)</td>\n",
       "        </tr>\n",
       "        <tr>\n",
       "            <td>2012-05-22</td>\n",
       "            <td>7:44:00</td>\n",
       "            <td>F9 v1.0  B0005</td>\n",
       "            <td>CCAFS LC-40</td>\n",
       "            <td>Dragon demo flight C2</td>\n",
       "            <td>525</td>\n",
       "            <td>LEO (ISS)</td>\n",
       "            <td>NASA (COTS)</td>\n",
       "            <td>Success</td>\n",
       "            <td>No attempt</td>\n",
       "        </tr>\n",
       "        <tr>\n",
       "            <td>2012-10-08</td>\n",
       "            <td>0:35:00</td>\n",
       "            <td>F9 v1.0  B0006</td>\n",
       "            <td>CCAFS LC-40</td>\n",
       "            <td>SpaceX CRS-1</td>\n",
       "            <td>500</td>\n",
       "            <td>LEO (ISS)</td>\n",
       "            <td>NASA (CRS)</td>\n",
       "            <td>Success</td>\n",
       "            <td>No attempt</td>\n",
       "        </tr>\n",
       "        <tr>\n",
       "            <td>2013-03-01</td>\n",
       "            <td>15:10:00</td>\n",
       "            <td>F9 v1.0  B0007</td>\n",
       "            <td>CCAFS LC-40</td>\n",
       "            <td>SpaceX CRS-2</td>\n",
       "            <td>677</td>\n",
       "            <td>LEO (ISS)</td>\n",
       "            <td>NASA (CRS)</td>\n",
       "            <td>Success</td>\n",
       "            <td>No attempt</td>\n",
       "        </tr>\n",
       "    </tbody>\n",
       "</table>"
      ],
      "text/plain": [
       "[('2010-06-04', '18:45:00', 'F9 v1.0  B0003', 'CCAFS LC-40', 'Dragon Spacecraft Qualification Unit', 0, 'LEO', 'SpaceX', 'Success', 'Failure (parachute)'),\n",
       " ('2010-12-08', '15:43:00', 'F9 v1.0  B0004', 'CCAFS LC-40', 'Dragon demo flight C1, two CubeSats, barrel of Brouere cheese', 0, 'LEO (ISS)', 'NASA (COTS) NRO', 'Success', 'Failure (parachute)'),\n",
       " ('2012-05-22', '7:44:00', 'F9 v1.0  B0005', 'CCAFS LC-40', 'Dragon demo flight C2', 525, 'LEO (ISS)', 'NASA (COTS)', 'Success', 'No attempt'),\n",
       " ('2012-10-08', '0:35:00', 'F9 v1.0  B0006', 'CCAFS LC-40', 'SpaceX CRS-1', 500, 'LEO (ISS)', 'NASA (CRS)', 'Success', 'No attempt'),\n",
       " ('2013-03-01', '15:10:00', 'F9 v1.0  B0007', 'CCAFS LC-40', 'SpaceX CRS-2', 677, 'LEO (ISS)', 'NASA (CRS)', 'Success', 'No attempt')]"
      ]
     },
     "execution_count": 57,
     "metadata": {},
     "output_type": "execute_result"
    }
   ],
   "source": [
    "%sql SELECT * FROM SPACEXTBL WHERE LAUNCH_SITE LIKE 'CCA%' LIMIT 5;"
   ]
  },
  {
   "cell_type": "markdown",
   "id": "4376d329-5ed9-4481-a957-9947525a1215",
   "metadata": {},
   "source": [
    "Task 3\n",
    "Display the total payload mass carried by boosters launched by NASA (CRS)"
   ]
  },
  {
   "cell_type": "code",
   "execution_count": 58,
   "id": "17e411a3-4c70-4b6d-b58a-859f5b10ba14",
   "metadata": {},
   "outputs": [],
   "source": [
    "import sqlite3\n",
    "import pandas as pd\n",
    "\n",
    "# Conectar a la base de datos (se creará si no existe)\n",
    "con = sqlite3.connect(\"my_datal.db\")\n",
    "cur = con.cursor()\n",
    "\n",
    "# Crear la tabla SPACEXTBL si no existe\n",
    "cur.execute('''\n",
    "CREATE TABLE IF NOT EXISTS SPACEXTBL (\n",
    "    Date TEXT,\n",
    "    Time TEXT,\n",
    "    Booster_Version TEXT,\n",
    "    Launch_Site TEXT,\n",
    "    Payload TEXT,\n",
    "    PAYLOAD_MASS__KG_ REAL,\n",
    "    Orbit TEXT,\n",
    "    Customer TEXT,\n",
    "    Mission_Outcome TEXT,\n",
    "    Landing_Outcome TEXT\n",
    ");\n",
    "''')\n",
    "\n",
    "# Cargar datos desde un archivo CSV (si tienes uno)\n",
    "df = pd.read_csv(\"https://cf-courses-data.s3.us.cloud-object-storage.appdomain.cloud/IBM-DS0321EN-SkillsNetwork/labs/module_2/data/Spacex.csv\")\n",
    "\n",
    "# Insertar los datos en la tabla SPACEXTBL\n",
    "df.to_sql(\"SPACEXTBL\", con, if_exists='replace', index=False)\n",
    "\n",
    "# Guardar los cambios\n",
    "con.commit()\n",
    "\n",
    "# Cerrar la conexión\n",
    "con.close()"
   ]
  },
  {
   "cell_type": "code",
   "execution_count": 59,
   "id": "ac3e4c63-7b98-4e43-8390-d423507d624c",
   "metadata": {},
   "outputs": [
    {
     "name": "stdout",
     "output_type": "stream",
     "text": [
      "Total payload mass by NASA (CRS): 45596\n"
     ]
    }
   ],
   "source": [
    "import sqlite3\n",
    "\n",
    "# Conectar a la base de datos\n",
    "con = sqlite3.connect(\"my_datal.db\")\n",
    "cur = con.cursor()\n",
    "\n",
    "# Consulta para calcular la masa total de carga útil de NASA (CRS)\n",
    "query = '''\n",
    "SELECT SUM(\"PAYLOAD_MASS__KG_\") AS \"Total payload mass by NASA (CRS)\" \n",
    "FROM \"SPACEXTBL\" \n",
    "WHERE \"CUSTOMER\" = 'NASA (CRS)';\n",
    "'''\n",
    "\n",
    "# Ejecutar la consulta\n",
    "cur.execute(query)\n",
    "\n",
    "# Obtener y mostrar el resultado\n",
    "result = cur.fetchone()\n",
    "print(\"Total payload mass by NASA (CRS):\", result[0])\n",
    "\n",
    "# Cerrar la conexión\n",
    "con.close()"
   ]
  },
  {
   "cell_type": "markdown",
   "id": "96d38121-5493-4d69-8aaf-6c566c5e6950",
   "metadata": {},
   "source": [
    "Task 4\n",
    "Display average payload mass carried by booster version F9 v1.1"
   ]
  },
  {
   "cell_type": "code",
   "execution_count": 68,
   "id": "c7e55c4e-15a7-4ff0-a284-156b6dfce2b2",
   "metadata": {},
   "outputs": [
    {
     "name": "stdout",
     "output_type": "stream",
     "text": [
      "Average payload for F9 v1.1: 2928.4\n"
     ]
    }
   ],
   "source": [
    "import sqlite3\n",
    "\n",
    "# Conectar a la base de datos\n",
    "con = sqlite3.connect(\"my_datal.db\")\n",
    "cur = con.cursor()\n",
    "\n",
    "# Consulta 1: Calcular la masa promedio de carga útil para la versión F9 v1.1\n",
    "query1 = '''\n",
    "SELECT AVG(\"PAYLOAD_MASS__KG_\") AS \"Average payload\" \n",
    "FROM \"SPACEXTBL\" \n",
    "WHERE \"BOOSTER_VERSION\" = 'F9 v1.1';\n",
    "'''\n",
    "\n",
    "# Ejecutar la consulta 1\n",
    "cur.execute(query1)\n",
    "result1 = cur.fetchone()\n",
    "print(\"Average payload for F9 v1.1:\", result1[0])\n",
    "\n",
    "\n",
    "# Cerrar la conexión\n",
    "con.close()"
   ]
  },
  {
   "cell_type": "markdown",
   "id": "f6550393-4450-4d88-adbe-e3fdb88b4c7d",
   "metadata": {},
   "source": [
    "Task 5\n",
    "List the date when the first succesful landing outcome in ground pad was acheived."
   ]
  },
  {
   "cell_type": "code",
   "execution_count": 69,
   "id": "73ec27b7-d6b7-4a63-9168-2563eef6244c",
   "metadata": {},
   "outputs": [
    {
     "name": "stdout",
     "output_type": "stream",
     "text": [
      "First successful landing outcome in ground pad: 2015-12-22\n"
     ]
    }
   ],
   "source": [
    "import sqlite3\n",
    "\n",
    "# Conectar a la base de datos\n",
    "con = sqlite3.connect(\"my_datal.db\")\n",
    "cur = con.cursor()\n",
    "\n",
    "\n",
    "# Consulta 2: Obtener la fecha del primer aterrizaje exitoso en plataforma terrestre\n",
    "query2 = '''\n",
    "SELECT MIN(DATE) AS \"First successful landing outcome in ground pad\" \n",
    "FROM \"SPACEXTBL\" \n",
    "WHERE \"LANDING_OUTCOME\" = 'Success (ground pad)';\n",
    "'''\n",
    "\n",
    "# Ejecutar la consulta 2\n",
    "cur.execute(query2)\n",
    "result2 = cur.fetchone()\n",
    "print(\"First successful landing outcome in ground pad:\", result2[0])\n",
    "\n",
    "# Cerrar la conexión\n",
    "con.close()"
   ]
  },
  {
   "cell_type": "markdown",
   "id": "26095401-11b0-4e34-a342-6f1d31c8db34",
   "metadata": {},
   "source": [
    "Task 6\n",
    "List the names of the boosters which have success in drone ship and have payload mass greater than 4000 but less than 6000"
   ]
  },
  {
   "cell_type": "code",
   "execution_count": 63,
   "id": "e2890670-9899-47ad-b7e3-0214ec528ae5",
   "metadata": {},
   "outputs": [
    {
     "name": "stdout",
     "output_type": "stream",
     "text": [
      " * sqlite:///my_data1.db\n",
      "Done.\n"
     ]
    },
    {
     "data": {
      "text/html": [
       "<table>\n",
       "    <thead>\n",
       "        <tr>\n",
       "            <th>Booster_Version</th>\n",
       "        </tr>\n",
       "    </thead>\n",
       "    <tbody>\n",
       "        <tr>\n",
       "            <td>F9 FT B1022</td>\n",
       "        </tr>\n",
       "        <tr>\n",
       "            <td>F9 FT B1026</td>\n",
       "        </tr>\n",
       "        <tr>\n",
       "            <td>F9 FT  B1021.2</td>\n",
       "        </tr>\n",
       "        <tr>\n",
       "            <td>F9 FT  B1031.2</td>\n",
       "        </tr>\n",
       "    </tbody>\n",
       "</table>"
      ],
      "text/plain": [
       "[('F9 FT B1022',), ('F9 FT B1026',), ('F9 FT  B1021.2',), ('F9 FT  B1031.2',)]"
      ]
     },
     "execution_count": 63,
     "metadata": {},
     "output_type": "execute_result"
    }
   ],
   "source": [
    "%sql SELECT BOOSTER_VERSION FROM SPACEXTBL WHERE LANDING_OUTCOME = 'Success (drone ship)' AND PAYLOAD_MASS__KG_ BETWEEN 4000 AND 6000;"
   ]
  },
  {
   "cell_type": "markdown",
   "id": "7c1ad01b-5361-4466-a1ae-1138cc005978",
   "metadata": {},
   "source": [
    "Task 7\n",
    "List the total number of successful and failure mission outcomes"
   ]
  },
  {
   "cell_type": "code",
   "execution_count": 64,
   "id": "50afb4b3-0471-484d-98ee-61cdad789da9",
   "metadata": {},
   "outputs": [
    {
     "name": "stdout",
     "output_type": "stream",
     "text": [
      " * sqlite:///my_data1.db\n",
      "Done.\n"
     ]
    },
    {
     "data": {
      "text/html": [
       "<table>\n",
       "    <thead>\n",
       "        <tr>\n",
       "            <th>number_of_success_outcomes</th>\n",
       "            <th>number_of_failure_outcomes</th>\n",
       "        </tr>\n",
       "    </thead>\n",
       "    <tbody>\n",
       "        <tr>\n",
       "            <td>100</td>\n",
       "            <td>1</td>\n",
       "        </tr>\n",
       "    </tbody>\n",
       "</table>"
      ],
      "text/plain": [
       "[(100, 1)]"
      ]
     },
     "execution_count": 64,
     "metadata": {},
     "output_type": "execute_result"
    }
   ],
   "source": [
    "%sql SELECT number_of_success_outcomes, number_of_failure_outcomes FROM (SELECT COUNT(*) AS number_of_success_outcomes FROM SPACEXTBL WHERE MISSION_OUTCOME LIKE 'Success%'), (SELECT COUNT(*) number_of_failure_outcomes FROM SPACEXTBL WHERE MISSION_OUTCOME LIKE 'Failure%')"
   ]
  },
  {
   "cell_type": "markdown",
   "id": "d0798a7e-f177-4c5e-8fd1-b4f46f5f995f",
   "metadata": {},
   "source": [
    "Task 8\n",
    "List the names of the booster_versions which have carried the maximum payload mass. Use a subquery"
   ]
  },
  {
   "cell_type": "code",
   "execution_count": 65,
   "id": "dc78b9ec-210c-46f9-804d-7daaab598d17",
   "metadata": {},
   "outputs": [
    {
     "name": "stdout",
     "output_type": "stream",
     "text": [
      " * sqlite:///my_data1.db\n",
      "Done.\n"
     ]
    },
    {
     "data": {
      "text/html": [
       "<table>\n",
       "    <thead>\n",
       "        <tr>\n",
       "            <th>Booster_Version</th>\n",
       "        </tr>\n",
       "    </thead>\n",
       "    <tbody>\n",
       "        <tr>\n",
       "            <td>F9 B5 B1048.4</td>\n",
       "        </tr>\n",
       "        <tr>\n",
       "            <td>F9 B5 B1049.4</td>\n",
       "        </tr>\n",
       "        <tr>\n",
       "            <td>F9 B5 B1051.3</td>\n",
       "        </tr>\n",
       "        <tr>\n",
       "            <td>F9 B5 B1056.4</td>\n",
       "        </tr>\n",
       "        <tr>\n",
       "            <td>F9 B5 B1048.5</td>\n",
       "        </tr>\n",
       "        <tr>\n",
       "            <td>F9 B5 B1051.4</td>\n",
       "        </tr>\n",
       "        <tr>\n",
       "            <td>F9 B5 B1049.5</td>\n",
       "        </tr>\n",
       "        <tr>\n",
       "            <td>F9 B5 B1060.2 </td>\n",
       "        </tr>\n",
       "        <tr>\n",
       "            <td>F9 B5 B1058.3 </td>\n",
       "        </tr>\n",
       "        <tr>\n",
       "            <td>F9 B5 B1051.6</td>\n",
       "        </tr>\n",
       "        <tr>\n",
       "            <td>F9 B5 B1060.3</td>\n",
       "        </tr>\n",
       "        <tr>\n",
       "            <td>F9 B5 B1049.7 </td>\n",
       "        </tr>\n",
       "    </tbody>\n",
       "</table>"
      ],
      "text/plain": [
       "[('F9 B5 B1048.4',),\n",
       " ('F9 B5 B1049.4',),\n",
       " ('F9 B5 B1051.3',),\n",
       " ('F9 B5 B1056.4',),\n",
       " ('F9 B5 B1048.5',),\n",
       " ('F9 B5 B1051.4',),\n",
       " ('F9 B5 B1049.5',),\n",
       " ('F9 B5 B1060.2 ',),\n",
       " ('F9 B5 B1058.3 ',),\n",
       " ('F9 B5 B1051.6',),\n",
       " ('F9 B5 B1060.3',),\n",
       " ('F9 B5 B1049.7 ',)]"
      ]
     },
     "execution_count": 65,
     "metadata": {},
     "output_type": "execute_result"
    }
   ],
   "source": [
    "%sql SELECT DISTINCT BOOSTER_VERSION FROM SPACEXTBL WHERE PAYLOAD_MASS__KG_ =(SELECT MAX(PAYLOAD_MASS__KG_) FROM SPACEXTBL);"
   ]
  },
  {
   "cell_type": "markdown",
   "id": "43448053-579e-41b4-a2fe-59a2ffee23f6",
   "metadata": {},
   "source": [
    "Task 9\n",
    "List the records which will display the month names, failure landing_outcomes in drone ship ,booster versions, launch_site for the months in year 2015."
   ]
  },
  {
   "cell_type": "code",
   "execution_count": 66,
   "id": "82bbdb2b-d666-48e1-a99f-d51814ffb05b",
   "metadata": {},
   "outputs": [
    {
     "name": "stdout",
     "output_type": "stream",
     "text": [
      " * sqlite:///my_data1.db\n",
      "Done.\n"
     ]
    },
    {
     "data": {
      "text/html": [
       "<table>\n",
       "    <thead>\n",
       "        <tr>\n",
       "            <th>month</th>\n",
       "            <th>Booster_Version</th>\n",
       "            <th>Launch_Site</th>\n",
       "        </tr>\n",
       "    </thead>\n",
       "    <tbody>\n",
       "        <tr>\n",
       "            <td>01</td>\n",
       "            <td>F9 v1.1 B1012</td>\n",
       "            <td>CCAFS LC-40</td>\n",
       "        </tr>\n",
       "        <tr>\n",
       "            <td>04</td>\n",
       "            <td>F9 v1.1 B1015</td>\n",
       "            <td>CCAFS LC-40</td>\n",
       "        </tr>\n",
       "    </tbody>\n",
       "</table>"
      ],
      "text/plain": [
       "[('01', 'F9 v1.1 B1012', 'CCAFS LC-40'),\n",
       " ('04', 'F9 v1.1 B1015', 'CCAFS LC-40')]"
      ]
     },
     "execution_count": 66,
     "metadata": {},
     "output_type": "execute_result"
    }
   ],
   "source": [
    "%%sql SELECT \n",
    "    substr(DATE, 6, 2) AS month,\n",
    "    BOOSTER_VERSION, \n",
    "    LAUNCH_SITE \n",
    "FROM SPACEXTBL \n",
    "WHERE substr(DATE, 1, 4) = '2015' \n",
    "AND LANDING_OUTCOME = 'Failure (drone ship)';"
   ]
  },
  {
   "cell_type": "markdown",
   "id": "223fc283-e77c-49ac-a542-725b53dc85ff",
   "metadata": {},
   "source": [
    "Task 10\n",
    "Rank the count of landing outcomes (such as Failure (drone ship) or Success (ground pad)) between the date 2010-06-04 and 2017-03-20, in descending order."
   ]
  },
  {
   "cell_type": "code",
   "execution_count": 67,
   "id": "a4475be9-2ff4-43b5-b976-944430fab56d",
   "metadata": {},
   "outputs": [
    {
     "name": "stdout",
     "output_type": "stream",
     "text": [
      " * sqlite:///my_data1.db\n",
      "Done.\n"
     ]
    },
    {
     "data": {
      "text/html": [
       "<table>\n",
       "    <thead>\n",
       "        <tr>\n",
       "            <th>Landing_Outcome</th>\n",
       "            <th>Landing_Count</th>\n",
       "        </tr>\n",
       "    </thead>\n",
       "    <tbody>\n",
       "        <tr>\n",
       "            <td>No attempt</td>\n",
       "            <td>10</td>\n",
       "        </tr>\n",
       "        <tr>\n",
       "            <td>Success (drone ship)</td>\n",
       "            <td>5</td>\n",
       "        </tr>\n",
       "        <tr>\n",
       "            <td>Failure (drone ship)</td>\n",
       "            <td>5</td>\n",
       "        </tr>\n",
       "        <tr>\n",
       "            <td>Success (ground pad)</td>\n",
       "            <td>3</td>\n",
       "        </tr>\n",
       "        <tr>\n",
       "            <td>Controlled (ocean)</td>\n",
       "            <td>3</td>\n",
       "        </tr>\n",
       "        <tr>\n",
       "            <td>Uncontrolled (ocean)</td>\n",
       "            <td>2</td>\n",
       "        </tr>\n",
       "        <tr>\n",
       "            <td>Failure (parachute)</td>\n",
       "            <td>2</td>\n",
       "        </tr>\n",
       "        <tr>\n",
       "            <td>Precluded (drone ship)</td>\n",
       "            <td>1</td>\n",
       "        </tr>\n",
       "    </tbody>\n",
       "</table>"
      ],
      "text/plain": [
       "[('No attempt', 10),\n",
       " ('Success (drone ship)', 5),\n",
       " ('Failure (drone ship)', 5),\n",
       " ('Success (ground pad)', 3),\n",
       " ('Controlled (ocean)', 3),\n",
       " ('Uncontrolled (ocean)', 2),\n",
       " ('Failure (parachute)', 2),\n",
       " ('Precluded (drone ship)', 1)]"
      ]
     },
     "execution_count": 67,
     "metadata": {},
     "output_type": "execute_result"
    }
   ],
   "source": [
    "%sql SELECT LANDING_OUTCOME, COUNT(LANDING_OUTCOME) AS Landing_Count FROM SPACEXTBL WHERE DATE BETWEEN '2010-06-04' AND '2017-03-20' GROUP BY  LANDING_OUTCOME ORDER BY COUNT(LANDING_OUTCOME) DESC;"
   ]
  }
 ],
 "metadata": {
  "kernelspec": {
   "display_name": "Python 3 (ipykernel)",
   "language": "python",
   "name": "python3"
  },
  "language_info": {
   "codemirror_mode": {
    "name": "ipython",
    "version": 3
   },
   "file_extension": ".py",
   "mimetype": "text/x-python",
   "name": "python",
   "nbconvert_exporter": "python",
   "pygments_lexer": "ipython3",
   "version": "3.12.7"
  }
 },
 "nbformat": 4,
 "nbformat_minor": 5
}
